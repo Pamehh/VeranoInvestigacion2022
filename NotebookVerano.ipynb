{
  "nbformat": 4,
  "nbformat_minor": 0,
  "metadata": {
    "colab": {
      "name": "NotebookVerano.ipynb",
      "provenance": [],
      "collapsed_sections": [],
      "include_colab_link": true
    },
    "kernelspec": {
      "name": "python3",
      "display_name": "Python 3"
    },
    "language_info": {
      "name": "python"
    }
  },
  "cells": [
    {
      "cell_type": "markdown",
      "metadata": {
        "id": "view-in-github",
        "colab_type": "text"
      },
      "source": [
        "<a href=\"https://colab.research.google.com/github/Pamehh/MisTareasHappy/blob/main/NotebookVerano.ipynb\" target=\"_parent\"><img src=\"https://colab.research.google.com/assets/colab-badge.svg\" alt=\"Open In Colab\"/></a>"
      ]
    },
    {
      "cell_type": "markdown",
      "source": [
        "#Introducción\n",
        "----Antecedentes y motivación, objetivos, estructura (definir qué es un agujero negro*, mencionar evidencias)----\n",
        "\n",
        "Relatividad Einstein,Sch STEPHEN Hawking\n",
        "\n",
        "Cuando se menciona a un agujero negro a la mayoría de la población le viene a la mente un objeto profundamente negro capaz de atraer y tragarse todo, del cual ni siquiera la luz puede escapar. \n",
        "Esa idea en sí misma suena realmente asombrosa, y es que antes de acercarnos a su descubrimiento este objeto solo podía ser resultado de la imaginación de una persona ágilmente creativa. \n",
        "No obstante, esta forma de presentarlos deja importantes fragmentos sin mencionar: sus clasificaciones, características, su sombra, observaciones y matemáticas que los describen, etcétera. A lo largo de este documento podrá vislumbrarse la verdadera fascinación que los rodea."
      ],
      "metadata": {
        "id": "g_I0f62LxLKb"
      }
    },
    {
      "cell_type": "markdown",
      "source": [
        "\n",
        "¿Qué es un agujero negro?\n",
        "\n",
        "Un agujero negro es una región finita en el espacio en cuyo interior se encuentra una elevada concentración de masa que genera un campo gravitatorio tan elevado que ninguna partícula puede escapar de ella, ni siquiera la luz. El concepto de agujero negro surge como una de las consecuencias de la Teoría de la Relatividad General de Albert Einsten, la cual fue publicada en 1915. Ahora bien, el teorema de No-pelo establece que un agujero negro puede ser caracterizado por solo tres parámetros: la masa, el momento angular y la carga eléctrica. \n",
        "\n",
        "Después de haber definido lo que es un agujero negro, es importante mencionar las partes principales que lo componen: la órbita, el horizonte de sucesos y la singularidad. \n",
        "\n",
        "La órbita es la parte externa del agujero, en esta zona se aloja toda la materia que fue consumida en algún momento por el agujero negro. \n",
        "\n",
        "Por otro lado,el horizonte de sucesos es la superficie esférica imaginaria que rodea al agujero negro, tiene una fuerza gravitacional tan fuerte de modo  que para que un objeto pueda alejarse su velocidad de escape debe ser similar a la velocidad de la luz. El radio de Schwarzschild es la medida del tamaño de un agujero negro de Schwarzschild, un agujero negro de simetría esférica y \n",
        "estático. \n",
        "\n",
        "Puesto que el tamaño de un agujero negro depende de la energía absorbida por el mismo, cuanto mayor es la masa del agujero negro mayor es el radio de Schwarzschild.\n",
        "\n",
        "Por último , pero no menos importante se encuentra la singularidad y es definida como la última parte del agujero ya que se encuentra en el centro de este. En esta zona toda la materia que cae colapsa y el espacio-tiempo se curva hasta el infinito. \n"
      ],
      "metadata": {
        "id": "sQJmU4c17Sb6"
      }
    },
    {
      "cell_type": "markdown",
      "source": [
        "# Nouvelle section"
      ],
      "metadata": {
        "id": "afVjnZeFUi8l"
      }
    },
    {
      "cell_type": "markdown",
      "source": [
        ""
      ],
      "metadata": {
        "id": "1DN_0m2tWrOV"
      }
    },
    {
      "cell_type": "markdown",
      "source": [
        "\n",
        "#Marco teórico\n",
        "----Definición de sombra, incluir resultados del EHT----\n",
        "\n",
        "En los últimos años han resonado noticias sobre \"la primera imagen obtenida de un agujero negro\", sin embargo, como ya se ha mencionado ni siquiera la luz puede escapar de un agujero negro una vez alcanza su horizonte de eventos. Por esto no es posible verlos, lo que se ha conseguido con el Event Horizon Telescope (EHT) son imágenes de las sombras de dos agujeros negros supermasivos, es una. En abril de 2019 se reveló la primera imagen de la sombra correspondiente al agujero negro en el centro de la galaxia vecina M87.\n",
        "\n",
        "<img src= https://upload.wikimedia.org/wikipedia/commons/thumb/4/4f/Black_hole_-_Messier_87_crop_max_res.jpg/480px-Black_hole_-_Messier_87_crop_max_res.jpg width=\"200\">\n",
        "\n",
        "Recientemente, en mayo del 2022 se reveló la sombra del agujero negro en el centro de nuestra galaxia, Sagitario A. \n",
        "\n",
        "<img src= https://upload.wikimedia.org/wikipedia/commons/thumb/9/96/EHT_Saggitarius_A_black_hole.tif/lossy-page1-1200px-EHT_Saggitarius_A_black_hole.tif.jpg width=\"200\" >\n",
        "\n",
        "Ahora bien, antes se mencionó el teorema de No-pelo con los 3 parámetros que pueden describir un agujero negro, sin embargo es difícil encontrar un agujero negro con carga pues con el tiempo atrae materia de carga eléctrica opuesta y termina por volverse neutro. En especial los agujeros negros supermasivos tieden a ser neutros, por lo tanto solo su masa y momento angular determinan su campo gravitacional. Y es este último concepto el guiará la definición de sombra.\n",
        "El campo gravitacional de un agujero negro desvía la luz que pasa a su alrededor, esta luz \"doblada\" produce la sombra del agujero negro y es lo que se observa desde la Tierra o desde el EHT. \n",
        "\n",
        "----Descripción de las soluciones, coordenadas celestes----\n",
        "\n",
        "Se trabaja con la métrica general\n",
        "\\begin{equation}\n",
        "  ds^2=-\\left(1-\\frac{2Mr}{\\Sigma}\\right)dt^2-\\frac{4Mar\\sin^2\\theta}{\\Sigma}d\\phi dt+\\frac{\\Sigma}{\\Delta}dr^2+\\Sigma d\\theta^2+\\left[(r^2+a^2)^2-\\Delta a^2\\sin^2\\theta\\right]\\frac{\\sin^2\\theta}{\\Sigma}d\\phi^2,\n",
        "\\end{equation}\n",
        "en donde $M$ es la masa del agujero negro y se trabaja en coordenadas de Boyer-Lindquist. Además, $a=J/M$ es un término asociado al momento angular del agujero negro rotante y $\\Sigma$ se expresa como\n",
        "\\begin{equation}\n",
        "  \\Sigma=r^2+a^2\\cos^2\\theta.\n",
        "\\end{equation}\n",
        "\n",
        "La definición de $\\Delta$ determinará distintos tipos de agujero negro:\n",
        "- Kerr: caraterizado por poseer masa y momento angular\n",
        "  \\begin{equation}\n",
        "    \\Delta=r^2-2Mr+a^2\n",
        "  \\end{equation}\n",
        "\n",
        "- Kerr-Newman: posee masa, momento angular y carga eléctrica\n",
        "  \\begin{equation}\n",
        "    \\Delta=r^2-2Mr+a^2+q^2\n",
        "  \\end{equation}\n",
        "\n",
        "- Bardeen-rotante: posee masa, momento angular y (?)\n",
        "  \\begin{equation}\n",
        "    \\Delta=r^2+a^2-\\frac{2Mr^4}{(r^2+g^2)^{3/2}}\n",
        "  \\end{equation}\n",
        "\n",
        "Desde luego, si el agujero negro no tiene rotación, se hace $a=0$ y se recupera la solución estática de Schwarzschild.\n",
        "\n",
        "Ya que el interés radica en la imagen generada por la observación del agujero negro en cuestión, el análisis se debe centrar en las caraterísticas que tiene la propagación de la luz. Como es sabido, la luz viaja siguiendo geodésicas nulas. Las ecuaciones de movimiento para un haz luminoso pueden determinarse haciendo uso de las ecuaciones de Hamilton-Jacobi.\n",
        "\\begin{equation}\n",
        "  \\Sigma\\frac{dt}{d\\lambda}=\\frac{1}{\\Delta}\\left[(r^+a^2)^2-\\Delta a^2\\sin^2\\theta-2Mar\\xi\\right],\n",
        "\\end{equation}\n",
        "\\begin{equation}\n",
        "  \\Sigma\\frac{dr}{d\\lambda}=\\sqrt{\\mathcal{R}},\n",
        "\\end{equation}\n",
        "\\begin{equation}\n",
        "  \\Sigma\\frac{d\\theta}{d\\lambda}=\\sqrt{\\Theta},\n",
        "\\end{equation}\n",
        "\\begin{equation}\n",
        "  \\Sigma\\frac{d\\phi}{d\\lambda}=\\frac{1}{\\Delta}\\left[2Mar+(\\Sigma-2Mr)\\xi\\csc^2\\theta\\right],\n",
        "\\end{equation}\n",
        "donde las funciones $\\mathcal{R}$ y $\\Theta$ son\n",
        "\\begin{equation}\n",
        "  \\mathcal{R}=\\left[r^2+a^2-a\\xi\\right]^2-\\Delta\\left[\\eta+(\\xi-a)^2\\right],\n",
        "\\end{equation}\n",
        "\\begin{equation}\n",
        "  \\Theta=\\eta+\\cos^2(a^2-\\xi^2\\csc^2\\theta),\n",
        "\\end{equation}\n",
        "\n",
        "En las expresiones anteriores se hace uso de $\\xi$ y $\\eta$, que para un agujero negro rotante se escriben como\n",
        "\\begin{equation}\n",
        "  \\xi=a\\sin^2\\theta_0\n",
        "\\end{equation}\n",
        "\\begin{equation}\n",
        "  \\eta=-a^2\\cos^4\\theta_0,\n",
        "\\end{equation}\n",
        "que permiten describir haces luminosos que se propagan a lo largo de $\\theta=\\theta_0$ y $r=a\\cos\\theta_0$.\n",
        "\n",
        "La forma más práctica de representar la sombra del agujero negro viene dada por el uso de las coordenadas celestes $\\alpha$ y $\\beta$. Considerando a un observador ubicado en $(r_0,\\theta_0,0)$, estas coordenadas se definen como\n",
        "\\begin{equation}\n",
        "  \\alpha=\\lim_{r_0\\rightarrow\\infty}\\left(-r_0^2\\sin\\theta_0\\frac{d\\phi}{dr}\\right)\n",
        "\\end{equation}\n",
        "\\begin{equation}\n",
        "  \\beta=\\lim_{r_0\\rightarrow\\infty}r_0^2\\frac{d\\theta}{dr}\n",
        "\\end{equation}\n",
        "\n",
        "REESCRIBIR\n"
      ],
      "metadata": {
        "id": "NM7GwfYs3MhN"
      }
    },
    {
      "cell_type": "code",
      "source": [
        "import numpy as np\n",
        "import scipy as sc\n",
        "from matplotlib import pyplot as plt\n",
        "\n",
        "M=1\n",
        "a=0.6\n",
        "q=0.5\n",
        "g=0.5\n",
        "theta=np.pi/2\n",
        "\n",
        "#Kerr\n",
        "def anul(r):\n",
        "  Q=r**2+a**2-2*M*r**4/(r**2+g**2)**(3/2)\n",
        "  Qp=2*r-8*M*r**3*(r**2+g**2)**(-3/2)+6*M*r**5*(r**2+g**2)**(-5/2)\n",
        "  return 16*Q*(a**2-Q)+8*r*Q*Qp-r**2*Qp**2\n",
        "\n",
        "def HallarRaices(A,B,nmax,tolerancia):\n",
        "  #Aquí colocar la función cuyos ceros se buscan\n",
        "  fA=anul(A)\n",
        "  fB=anul(B)\n",
        "  if abs(fA)>abs(fB):\n",
        "    aux=B\n",
        "    auxF=fB\n",
        "    B=A\n",
        "    A=aux\n",
        "    fB=fA\n",
        "    fA=auxF\n",
        "  for n in range(2,nmax+1):\n",
        "    if abs(fA)>abs(fB):\n",
        "      aux=B\n",
        "      auxF=fB\n",
        "      B=A\n",
        "      A=aux\n",
        "      fB=fA\n",
        "      fA=auxF\n",
        "    d=(B-A)/(fB-fA)\n",
        "    B=A\n",
        "    fB=fA\n",
        "    d=d*fA\n",
        "    A=A-d\n",
        "    fA=anul(A)\n",
        "    if abs(d)<tolerancia:\n",
        "      break\n",
        "  return A\n",
        "\n",
        "rInic=HallarRaices(1.5,1.8,1000,0.0000001)\n",
        "rFin=HallarRaices(3.6,4.0,1000,0.0000001)\n",
        "\n",
        "def alfa(r):\n",
        "  Q=r**2+a**2-2*M*r**4/(r**2+g**2)**(3/2)\n",
        "  #Qp=2*r-2*M\n",
        "  Qp=2*r-8*M*r**3*(r**2+g**2)**(-3/2)+6*M*r**5*(r**2+g**2)**(-5/2)\n",
        "  xi=((a**2+r**2)*Qp-4*r*Q)/(a*Qp)\n",
        "  return -xi/np.sin(theta)\n",
        "\n",
        "def beta(r):\n",
        "  Q=r**2+a**2-2*M*r**4/(r**2+g**2)**(3/2)\n",
        "  #Qp=2*r-2*M\n",
        "  Qp=2*r-8*M*r**3*(r**2+g**2)**(-3/2)+6*M*r**5*(r**2+g**2)**(-5/2)\n",
        "  xi=((a**2+r**2)*Qp-4*r*Q)/(a*Qp)\n",
        "  eta=(r**2/(a**2*Qp**2))*(anul(r))\n",
        "  return np.sqrt(eta+a**2*(np.cos(theta))**2-xi**2/(np.tan(theta))**2)\n",
        "\n",
        "r=np.linspace(rInic,rFin,10001)\n",
        "plt.plot(alfa(r),beta(r),'k')\n",
        "plt.plot(alfa(r),-beta(r),'k')\n",
        "plt.axis('equal')\n",
        "plt.show()"
      ],
      "metadata": {
        "id": "0fCQU2VsCaiP",
        "colab": {
          "base_uri": "https://localhost:8080/",
          "height": 320
        },
        "outputId": "fa76cfea-c36e-44d7-d8e2-bf52775866c9"
      },
      "execution_count": null,
      "outputs": [
        {
          "output_type": "stream",
          "name": "stderr",
          "text": [
            "/usr/local/lib/python3.7/dist-packages/ipykernel_launcher.py:62: RuntimeWarning: invalid value encountered in sqrt\n",
            "/usr/local/lib/python3.7/dist-packages/ipykernel_launcher.py:62: RuntimeWarning: invalid value encountered in sqrt\n"
          ]
        },
        {
          "output_type": "display_data",
          "data": {
            "text/plain": [
              "<Figure size 432x288 with 1 Axes>"
            ],
            "image/png": "[encoded data removed]"
          },
          "metadata": {
            "needs_background": "light"
          }
        }
      ]
    },
    {
      "cell_type": "markdown",
      "source": [
        "#Bibliografía\n",
        "\n",
        "  #Wild, F. (10/07/2022). Black Holes. https://www.nasa.gov/audience/forstudents/k-4/stories/nasa-knows/what-is-a-black-hole-k4.html\n",
        "\n",
        "  #Contreras, E., Ramirez–Velasquez, J.M., Rincón, Á. et al. Black hole shadow of a rotating polytropic black hole by the Newman–Janis algorithm without complexification. Eur. Phys. J. C 79, 802 (2019). https://doi.org/10.1140/epjc/s10052-019-7309-z\n",
        "\n"
      ],
      "metadata": {
        "id": "uqfxyEx3xgMA"
      }
    },
    {
      "cell_type": "markdown",
      "source": [
        "#Resultados\n",
        "----Gráficas y análisis----\n"
      ],
      "metadata": {
        "id": "o3NY4c8UxJrg"
      }
    }
  ]
}